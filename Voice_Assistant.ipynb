{
 "cells": [
  {
   "cell_type": "code",
   "execution_count": 4,
   "id": "b59fafed-209d-4ed5-b3ea-cae833677029",
   "metadata": {},
   "outputs": [],
   "source": [
    "#Golden Projects (Not Compulsory)\n",
    "# 2. Voice Assistant using Python"
   ]
  },
  {
   "cell_type": "code",
   "execution_count": 2,
   "id": "652c5b91-fb07-4931-8e97-55d50c3d0a5c",
   "metadata": {},
   "outputs": [
    {
     "name": "stdin",
     "output_type": "stream",
     "text": [
      "Content to search and voice assisstant programming\n"
     ]
    },
    {
     "name": "stdout",
     "output_type": "stream",
     "text": [
      "Computer programming is the process of performing particular computations (or more generally, accomplishing specific computing results), usually by designing and building executable computer programs. Programming involves tasks such as analysis, generating algorithms, profiling algorithms' accuracy and resource consumption, and the implementation of algorithms (usually in a particular programming language, commonly referred to as coding). The source code of a program is written in one or more languages that are intelligible to programmers, rather than machine code, which is directly executed by the central processing unit. To produce machine code, the source code must either be compiled or transpiled. Compiling takes the source code from a low-level programming language and converts it into machine code. Transpiling on the other hand, takes the source-code from a high-level programming language and converts it into bytecode. This is interpreted into machine code. The purpose of programming is to find a sequence of instructions that will automate the performance of a task (which can be as complex as an operating system) on a computer, often for solving a given problem. Proficient programming thus usually requires expertise in several different subjects, including knowledge of the application domain, specialized algorithms, and formal logic.\n",
      "Tasks accompanying and related to programming include testing, debugging, source code maintenance, implementation of build systems, and management of derived artifacts, such as the machine code of computer programs.\n"
     ]
    }
   ],
   "source": [
    "import pyttsx3\n",
    "import wikipedia\n",
    "voice=pyttsx3.init()\n",
    "In = input(\"Content to search and voice assisstant\")\n",
    "result=wikipedia.summary(In,sentences=12)\n",
    "print(result)\n",
    "voice.say(result)\n",
    "voice.runAndWait()"
   ]
  },
  {
   "cell_type": "code",
   "execution_count": null,
   "id": "8e85d10d-9ee3-46e0-9d5b-6860bffbc3b9",
   "metadata": {},
   "outputs": [],
   "source": []
  }
 ],
 "metadata": {
  "kernelspec": {
   "display_name": "Python 3 (ipykernel)",
   "language": "python",
   "name": "python3"
  },
  "language_info": {
   "codemirror_mode": {
    "name": "ipython",
    "version": 3
   },
   "file_extension": ".py",
   "mimetype": "text/x-python",
   "name": "python",
   "nbconvert_exporter": "python",
   "pygments_lexer": "ipython3",
   "version": "3.11.4"
  }
 },
 "nbformat": 4,
 "nbformat_minor": 5
}
