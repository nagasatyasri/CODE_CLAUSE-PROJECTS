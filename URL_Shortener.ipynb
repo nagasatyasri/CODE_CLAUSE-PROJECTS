{
 "cells": [
  {
   "cell_type": "code",
   "execution_count": null,
   "id": "a0704a3c-cd50-4856-a784-5a106b4f2bc8",
   "metadata": {},
   "outputs": [],
   "source": [
    "# Allocated Project\n",
    "# 1. URL shortener "
   ]
  },
  {
   "cell_type": "code",
   "execution_count": 3,
   "id": "3caf1558-68f4-4ec2-a092-922a51bc8e29",
   "metadata": {},
   "outputs": [
    {
     "name": "stdin",
     "output_type": "stream",
     "text": [
      " enter the url https://www.youtube.com/watch?v=eWRfhZUzrAc\n"
     ]
    },
    {
     "name": "stdout",
     "output_type": "stream",
     "text": [
      "https://tinyurl.com/2k2xl6wl\n"
     ]
    }
   ],
   "source": [
    "#pip install pyshorteners\n",
    "#pip install pyperclip\n",
    "import pyshorteners\n",
    "url=input(' enter the url')\n",
    "def shortenurl(url):\n",
    "    s=pyshorteners.Shortener()\n",
    "    print(s.tinyurl.short(url))\n",
    "shortenurl(url)"
   ]
  },
  {
   "cell_type": "code",
   "execution_count": null,
   "id": "4ba71921-037b-4316-b6a9-781ef4789b3a",
   "metadata": {},
   "outputs": [],
   "source": []
  }
 ],
 "metadata": {
  "kernelspec": {
   "display_name": "Python 3 (ipykernel)",
   "language": "python",
   "name": "python3"
  },
  "language_info": {
   "codemirror_mode": {
    "name": "ipython",
    "version": 3
   },
   "file_extension": ".py",
   "mimetype": "text/x-python",
   "name": "python",
   "nbconvert_exporter": "python",
   "pygments_lexer": "ipython3",
   "version": "3.11.4"
  }
 },
 "nbformat": 4,
 "nbformat_minor": 5
}
