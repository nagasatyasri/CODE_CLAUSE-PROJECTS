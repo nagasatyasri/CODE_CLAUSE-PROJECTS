{
 "cells": [
  {
   "cell_type": "code",
   "execution_count": 15,
   "id": "14a28b2a-a8c0-42db-a0b5-d8aada840d86",
   "metadata": {},
   "outputs": [],
   "source": [
    "# Allocated Project\n",
    "# 2. Music Player in Python"
   ]
  },
  {
   "cell_type": "code",
   "execution_count": 16,
   "id": "9d6cc533-b161-444a-b220-5e6d5fde300d",
   "metadata": {},
   "outputs": [
    {
     "data": {
      "text/html": [
       "\n",
       "                <audio  controls=\"controls\" >\n",
       "                    <source src=\"http://commondatastorage.googleapis.com/codeskulptor-demos/DDR_assets/Kangaroo_MusiQue_-_The_Neverwritten_Role_Playing_Game.mp3\" type=\"audio/mpeg\" />\n",
       "                    Your browser does not support the audio element.\n",
       "                </audio>\n",
       "              "
      ],
      "text/plain": [
       "<IPython.lib.display.Audio object>"
      ]
     },
     "metadata": {},
     "output_type": "display_data"
    },
    {
     "data": {
      "text/html": [
       "\n",
       "                <audio  controls=\"controls\" >\n",
       "                    <source src=\"http://commondatastorage.googleapis.com/codeskulptor-assets/Epoq-Lepidoptera.ogg\" type=\"audio/ogg\" />\n",
       "                    Your browser does not support the audio element.\n",
       "                </audio>\n",
       "              "
      ],
      "text/plain": [
       "<IPython.lib.display.Audio object>"
      ]
     },
     "metadata": {},
     "output_type": "display_data"
    },
    {
     "data": {
      "text/html": [
       "\n",
       "                <audio  controls=\"controls\" >\n",
       "                    <source src=\"http://commondatastorage.googleapis.com/codeskulptor-demos/DDR_assets/Sevish_-__nbsp_.mp3\" type=\"audio/mpeg\" />\n",
       "                    Your browser does not support the audio element.\n",
       "                </audio>\n",
       "              "
      ],
      "text/plain": [
       "<IPython.lib.display.Audio object>"
      ]
     },
     "metadata": {},
     "output_type": "display_data"
    }
   ],
   "source": [
    "from IPython.display import Audio, display\n",
    "\n",
    "# Define a list of audio URLs or file paths\n",
    "audio_urls = [\n",
    "    \"http://commondatastorage.googleapis.com/codeskulptor-demos/DDR_assets/Kangaroo_MusiQue_-_The_Neverwritten_Role_Playing_Game.mp3\",\n",
    "    \"http://commondatastorage.googleapis.com/codeskulptor-assets/Epoq-Lepidoptera.ogg\",\n",
    "    \"http://commondatastorage.googleapis.com/codeskulptor-demos/DDR_assets/Sevish_-__nbsp_.mp3\"\n",
    "]\n",
    "\n",
    "# Create and display an Audio widget for each URL in the list\n",
    "for url in audio_urls:\n",
    "    audio_widget = Audio(url=url, autoplay=False)\n",
    "    display(audio_widget)\n"
   ]
  },
  {
   "cell_type": "code",
   "execution_count": null,
   "id": "5fc7c9af-9979-4152-8e0d-ff2a3a4162ad",
   "metadata": {},
   "outputs": [],
   "source": []
  }
 ],
 "metadata": {
  "kernelspec": {
   "display_name": "Python 3 (ipykernel)",
   "language": "python",
   "name": "python3"
  },
  "language_info": {
   "codemirror_mode": {
    "name": "ipython",
    "version": 3
   },
   "file_extension": ".py",
   "mimetype": "text/x-python",
   "name": "python",
   "nbconvert_exporter": "python",
   "pygments_lexer": "ipython3",
   "version": "3.11.4"
  }
 },
 "nbformat": 4,
 "nbformat_minor": 5
}
