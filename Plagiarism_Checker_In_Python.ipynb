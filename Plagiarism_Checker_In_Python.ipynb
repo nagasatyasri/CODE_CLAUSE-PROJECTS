{
 "cells": [
  {
   "cell_type": "code",
   "execution_count": 6,
   "id": "fd26e63d-3ae0-4e54-9785-1b9344c00093",
   "metadata": {},
   "outputs": [],
   "source": [
    "#Golden Projects (Not Compulsory)\n",
    "# 1. Plagiarism Checker in Python"
   ]
  },
  {
   "cell_type": "code",
   "execution_count": 3,
   "id": "e52c8ece-8229-400a-88e1-0dfd1ea68693",
   "metadata": {},
   "outputs": [],
   "source": [
    "import difflib\n",
    "import os"
   ]
  },
  {
   "cell_type": "code",
   "execution_count": 5,
   "id": "6d3700dc-0f2a-4ac9-96f6-caa4fd27ce6f",
   "metadata": {},
   "outputs": [
    {
     "name": "stdout",
     "output_type": "stream",
     "text": [
      "Similarity Score: 0.07430340557275542\n",
      "\n",
      "Comparison Result:\n",
      "- Plagiarism is when you use someone else's ideas or words without giving them credit. It is unethical and can result in severe consequences, such as academic penalties and harm to your reputation. Therefore, it is crucial to cite your sources and avoid plagiarism in all your academic work.\n",
      "+ Plagiarism is the act of using someone else's ideas, words, or work without giving them proper credit. It is considered an ethical violation in academia and many other fields. Plagiarism can have serious consequences, including academic penalties and damage to one's reputation. Therefore, it is essential to always cite your sources and avoid plagiarism.\n"
     ]
    }
   ],
   "source": [
    "\n",
    "def compare_files(file1_path, file2_path):\n",
    "    # Read the contents of the first file\n",
    "    with open(file1_path, 'r', encoding='utf-8') as file1:\n",
    "        file1_contents = file1.read()\n",
    "\n",
    "    # Read the contents of the second file\n",
    "    with open(file2_path, 'r', encoding='utf-8') as file2:\n",
    "        file2_contents = file2.read()\n",
    "\n",
    "    # Use difflib to compare the contents\n",
    "    d = difflib.Differ()\n",
    "    diff = list(d.compare(file1_contents.splitlines(), file2_contents.splitlines()))\n",
    "\n",
    "    # Calculate a similarity score\n",
    "    similarity = difflib.SequenceMatcher(None, file1_contents, file2_contents).ratio()\n",
    "\n",
    "    return diff, similarity\n",
    "\n",
    "file1_path = r\"D:\\Internship\\CodeClause\\submission.txt\"\n",
    "file2_path = r\"D:\\Internship\\CodeClause\\reference.txt\"\n",
    "\n",
    "diff, similarity = compare_files(file1_path, file2_path)\n",
    "\n",
    "print(\"Similarity Score:\", similarity)\n",
    "\n",
    "print(\"\\nComparison Result:\")\n",
    "for line in diff:\n",
    "    print(line)\n"
   ]
  },
  {
   "cell_type": "code",
   "execution_count": null,
   "id": "9eba3fc2-2fd3-44b9-aebe-c2ede2524c79",
   "metadata": {},
   "outputs": [],
   "source": []
  }
 ],
 "metadata": {
  "kernelspec": {
   "display_name": "Python 3 (ipykernel)",
   "language": "python",
   "name": "python3"
  },
  "language_info": {
   "codemirror_mode": {
    "name": "ipython",
    "version": 3
   },
   "file_extension": ".py",
   "mimetype": "text/x-python",
   "name": "python",
   "nbconvert_exporter": "python",
   "pygments_lexer": "ipython3",
   "version": "3.11.4"
  }
 },
 "nbformat": 4,
 "nbformat_minor": 5
}
